{
 "cells": [
  {
   "cell_type": "markdown",
   "metadata": {},
   "source": [
    "### Preliminaries"
   ]
  },
  {
   "cell_type": "code",
   "execution_count": null,
   "metadata": {},
   "outputs": [],
   "source": [
    "import pandas as pd\n",
    "import numpy as np\n",
    "from numpy import save\n",
    "\n",
    "from sklearn.preprocessing import LabelEncoder\n",
    "from sklearn.model_selection import train_test_split\n",
    "from sklearn.metrics import accuracy_score\n",
    "from sklearn.ensemble import RandomForestClassifier\n",
    "\n",
    "import keras\n",
    "from keras.utils import to_categorical\n",
    "from keras.models import Sequential,Input,Model\n",
    "from keras.layers import Dense, Dropout, Flatten\n",
    "from keras.layers import Conv2D, MaxPooling2D\n",
    "from keras.layers import Conv1D, MaxPooling1D\n",
    "from keras.layers.normalization import BatchNormalization\n",
    "from keras.layers.advanced_activations import LeakyReLU"
   ]
  },
  {
   "cell_type": "code",
   "execution_count": null,
   "metadata": {},
   "outputs": [],
   "source": [
    "## load  processed data\n",
    "training_data = np.load(\"training_data.npy\", allow_pickle = True)\n",
    "labels = np.load(\"labels.npy\", allow_pickle = True)\n",
    "training_data.shape,training_data.shape"
   ]
  },
  {
   "cell_type": "markdown",
   "metadata": {},
   "source": [
    "### Decision forest"
   ]
  },
  {
   "cell_type": "markdown",
   "metadata": {},
   "source": [
    "Finally, we can start applying some models. We create now a validation data for testing the decision forest thanks to the function [train_test_split](https://scikit-learn.org/stable/modules/generated/sklearn.model_selection.train_test_split.html)."
   ]
  },
  {
   "cell_type": "code",
   "execution_count": null,
   "metadata": {},
   "outputs": [],
   "source": [
    "## SPLITTING\n",
    "X_train, X_test, y_train, y_test = train_test_split(training_data, labels, test_size=0.2, random_state=42)"
   ]
  },
  {
   "cell_type": "code",
   "execution_count": null,
   "metadata": {},
   "outputs": [],
   "source": [
    "# check shape\n",
    "print(X_train.shape)\n",
    "print(y_train.shape)\n",
    "print(X_test.shape)\n",
    "print(y_test.shape)"
   ]
  },
  {
   "cell_type": "markdown",
   "metadata": {},
   "source": [
    "#### Features engineering"
   ]
  },
  {
   "cell_type": "markdown",
   "metadata": {},
   "source": [
    "In order to improve the accuracy of our decision forest, it is wise to do first some features engineering. We define two functions. The first creates simply the mean of our signal, while the second does something a little bit more complicated, that is, it applys different statistics indices to our signal."
   ]
  },
  {
   "cell_type": "code",
   "execution_count": null,
   "metadata": {},
   "outputs": [],
   "source": [
    "def features_mean(signal):\n",
    "    return np.mean(signal,axis=2)\n",
    "\n",
    "def features(signal, functions):\n",
    "    summaries=[]\n",
    "    for fn in functions:\n",
    "        summaries.append(fn(signal,axis=2))\n",
    "    return np.concatenate(summaries,axis=1)\n",
    "\n",
    "summaries = [np.mean, np.min, np.max, np.std]\n",
    "\n",
    "X_train_summaries = features(X_train, summaries)\n",
    "X_test_summaries = features(X_test, summaries)\n",
    "\n",
    "X_train_mean = features_mean(X_train)\n",
    "X_test_mean = features_mean(X_test)"
   ]
  },
  {
   "cell_type": "markdown",
   "metadata": {},
   "source": [
    "#### Running the model"
   ]
  },
  {
   "cell_type": "markdown",
   "metadata": {},
   "source": [
    "A little bit of fun has arrived. Here I create a function in order to run the decision forest with different number of nodes. As you know, the number of nodes in a forest is extremely important as it allows to control for overfitting. Let's have a look at all the arguments:\n",
    "\n",
    "- **n_estimators** : this is a list and as I anticipate, with this we can control the number of nodes\n",
    "- **X_traind and X_test** : because we used 2 different kinds of features engineering, here we can choose which one to use\n",
    "- **y_train and y_test** : regardless wich kind of training data we use, we will always use the same test set and for this reason these arguments have already default values\n",
    "- **random_state** : simply a way of controlling for randomness when looking for the best split at each node. This is usefull in order to be able to reproduce the accuracy.\n",
    "\n",
    "I leave you [here](https://scikit-learn.org/stable/modules/generated/sklearn.ensemble.RandomForestClassifier.html) the official documentation about decision forest.\n",
    "\n",
    "In conclusion, not only this function allows us to choose the training data and the number of nodes, but it saves for each number of nodes its accuracy."
   ]
  },
  {
   "cell_type": "code",
   "execution_count": null,
   "metadata": {},
   "outputs": [],
   "source": [
    "## this function take as argument a training and a validation data set and return the accuracy based on \n",
    "# the number of nodes, which is encode here as n_estimators\n",
    "\n",
    "def run_forest(n_estimators ,X_train, X_test, y_train = y_train, y_test = y_test , random_state = 333):\n",
    "    \n",
    "    acc=[] # list of accuracy which depends on the hyperparameter n_estimators\n",
    "\n",
    "    for num_features in n_estimators: # hyperparameters to change with higher number\n",
    "        forest = RandomForestClassifier(n_estimators=num_features, \n",
    "                               bootstrap = True,\n",
    "                               max_features = 'sqrt',\n",
    "                                random_state = random_state)\n",
    "        fitted_model=forest.fit(X_train,y_train)\n",
    "        prediction=fitted_model.predict(X_test)\n",
    "        accuracy=accuracy_score(y_test,prediction)\n",
    "        solution = (num_features,accuracy)\n",
    "        acc.append(solution)\n",
    "        \n",
    "    return acc"
   ]
  },
  {
   "cell_type": "markdown",
   "metadata": {},
   "source": [
    "Let's run the model, here we can define the lists to put as **n_estimators** argument. My machine cannot handle all these data, for the sake of the example, I just put 1 node for each type of features engineering. You can try with [50,100,200]  and you will see that the accuracy is going to increase, although it cannot go over 20%. Not too much eh? For this we have DL ;)."
   ]
  },
  {
   "cell_type": "code",
   "execution_count": null,
   "metadata": {},
   "outputs": [],
   "source": [
    "#set up different number of nodes \n",
    "n_estimators_mean = [1]\n",
    "n_estimators_summaries = [1]"
   ]
  },
  {
   "cell_type": "code",
   "execution_count": null,
   "metadata": {},
   "outputs": [],
   "source": [
    "# accuracy for the mean\n",
    "accuracy_mean = run_forest(n_estimators_mean,X_train_mean,X_test_mean)\n",
    "print(accuracy_mean)"
   ]
  },
  {
   "cell_type": "code",
   "execution_count": null,
   "metadata": {},
   "outputs": [],
   "source": [
    "# accuracy for the summaries\n",
    "accuracy_summaries = run_forest(n_estimators_summaries,X_train_summaries,X_test_summaries)\n",
    "print(accuracy_summaries)"
   ]
  }
 ],
 "metadata": {
  "kernelspec": {
   "display_name": "Python 3",
   "language": "python",
   "name": "python3"
  },
  "language_info": {
   "codemirror_mode": {
    "name": "ipython",
    "version": 3
   },
   "file_extension": ".py",
   "mimetype": "text/x-python",
   "name": "python",
   "nbconvert_exporter": "python",
   "pygments_lexer": "ipython3",
   "version": "3.7.5"
  }
 },
 "nbformat": 4,
 "nbformat_minor": 2
}
